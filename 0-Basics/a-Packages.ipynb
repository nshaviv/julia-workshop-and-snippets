{
 "cells": [
  {
   "cell_type": "markdown",
   "metadata": {},
   "source": [
    "Julia has a very powerful package manager, which allows you to install and manage packages.\n",
    "\n",
    "To install a package (which you do once, at least until a major julia upgrade) you use the `Pkg.add()` function the `Pkg` package:"
   ]
  },
  {
   "cell_type": "code",
   "execution_count": null,
   "metadata": {},
   "outputs": [],
   "source": [
    "using Pkg\n",
    "Pkg.add(\"Plots\")   "
   ]
  },
  {
   "cell_type": "markdown",
   "metadata": {},
   "source": [
    "To use a package (or packages), which you do every time you start Julia you use the using command `using`:"
   ]
  },
  {
   "cell_type": "code",
   "execution_count": null,
   "metadata": {},
   "outputs": [],
   "source": [
    "using Plots, LinearAlgebra"
   ]
  },
  {
   "cell_type": "markdown",
   "metadata": {},
   "source": [
    "To update the package:"
   ]
  },
  {
   "cell_type": "code",
   "execution_count": null,
   "metadata": {},
   "outputs": [],
   "source": [
    "Pkg.update(\"Plots\")"
   ]
  },
  {
   "cell_type": "markdown",
   "metadata": {},
   "source": [
    "To remove it:"
   ]
  },
  {
   "cell_type": "code",
   "execution_count": null,
   "metadata": {},
   "outputs": [],
   "source": [
    "Pkg.rm(\"Plots\")"
   ]
  },
  {
   "cell_type": "markdown",
   "metadata": {},
   "source": [
    "To check the status of all packages installed:"
   ]
  },
  {
   "cell_type": "code",
   "execution_count": null,
   "metadata": {},
   "outputs": [],
   "source": [
    "Pkg.status()"
   ]
  },
  {
   "cell_type": "markdown",
   "metadata": {},
   "source": [
    "You can also access the package manager from the REPL (the julia promot). Type ] and it will show up. In in you can type package commands such as\n",
    "```\n",
    "(@v1.9) pkg> add Plots\n",
    "(@v1.9) pkg> update Plots\n",
    "(@v1.9) pkg> rm Plots\n",
    "(@v1.9) pkg> status\n",
    "```\n",
    "Then, press *backspace* to return to the REPL."
   ]
  },
  {
   "cell_type": "markdown",
   "metadata": {},
   "source": [
    "You can also press ; and type shell commands. \n",
    "```\n",
    "julia> \n",
    "\n",
    "shell> echo 'hello world in the shell'\n",
    "hello world in the shell\n",
    "\n",
    "shell> \n",
    "\n",
    "julia> \n",
    "\n",
    "```\n",
    "type *backspace* to return to the julia prompt."
   ]
  }
 ],
 "metadata": {
  "kernelspec": {
   "display_name": "Julia 1.9.2",
   "language": "julia",
   "name": "julia-1.9"
  },
  "language_info": {
   "file_extension": ".jl",
   "mimetype": "application/julia",
   "name": "julia",
   "version": "1.9.2"
  }
 },
 "nbformat": 4,
 "nbformat_minor": 2
}
